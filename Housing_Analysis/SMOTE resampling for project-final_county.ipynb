{
 "cells": [
  {
   "cell_type": "markdown",
   "id": "aa85c8e1",
   "metadata": {},
   "source": [
    "# CLEANING DATA"
   ]
  },
  {
   "cell_type": "code",
   "execution_count": 1,
   "id": "4cbeac2c",
   "metadata": {},
   "outputs": [],
   "source": [
    "import numpy as np\n",
    "import pandas as pd\n",
    "from pathlib import Path\n",
    "from collections import Counter"
   ]
  },
  {
   "cell_type": "markdown",
   "id": "1a49cca0",
   "metadata": {},
   "source": [
    "# SMOTE OVERSAMPLING"
   ]
  },
  {
   "cell_type": "code",
   "execution_count": 2,
   "id": "57e8329e",
   "metadata": {},
   "outputs": [
    {
     "data": {
      "text/html": [
       "<div>\n",
       "<style scoped>\n",
       "    .dataframe tbody tr th:only-of-type {\n",
       "        vertical-align: middle;\n",
       "    }\n",
       "\n",
       "    .dataframe tbody tr th {\n",
       "        vertical-align: top;\n",
       "    }\n",
       "\n",
       "    .dataframe thead th {\n",
       "        text-align: right;\n",
       "    }\n",
       "</style>\n",
       "<table border=\"1\" class=\"dataframe\">\n",
       "  <thead>\n",
       "    <tr style=\"text-align: right;\">\n",
       "      <th></th>\n",
       "      <th>County</th>\n",
       "      <th>Year</th>\n",
       "      <th>population</th>\n",
       "      <th>GDP_pct_Change</th>\n",
       "      <th>House_Price</th>\n",
       "      <th>Income</th>\n",
       "      <th>Priced_Out</th>\n",
       "    </tr>\n",
       "  </thead>\n",
       "  <tbody>\n",
       "    <tr>\n",
       "      <th>0</th>\n",
       "      <td>Adams</td>\n",
       "      <td>2010</td>\n",
       "      <td>441603</td>\n",
       "      <td>6.78</td>\n",
       "      <td>186967</td>\n",
       "      <td>52785</td>\n",
       "      <td>N</td>\n",
       "    </tr>\n",
       "    <tr>\n",
       "      <th>1</th>\n",
       "      <td>Adams</td>\n",
       "      <td>2011</td>\n",
       "      <td>451443</td>\n",
       "      <td>15.78</td>\n",
       "      <td>176663</td>\n",
       "      <td>52429</td>\n",
       "      <td>N</td>\n",
       "    </tr>\n",
       "    <tr>\n",
       "      <th>2</th>\n",
       "      <td>Adams</td>\n",
       "      <td>2012</td>\n",
       "      <td>459861</td>\n",
       "      <td>-0.17</td>\n",
       "      <td>181640</td>\n",
       "      <td>55695</td>\n",
       "      <td>N</td>\n",
       "    </tr>\n",
       "    <tr>\n",
       "      <th>3</th>\n",
       "      <td>Adams</td>\n",
       "      <td>2013</td>\n",
       "      <td>469377</td>\n",
       "      <td>10.03</td>\n",
       "      <td>204357</td>\n",
       "      <td>54876</td>\n",
       "      <td>N</td>\n",
       "    </tr>\n",
       "    <tr>\n",
       "      <th>4</th>\n",
       "      <td>Adams</td>\n",
       "      <td>2014</td>\n",
       "      <td>479488</td>\n",
       "      <td>17.60</td>\n",
       "      <td>228642</td>\n",
       "      <td>59316</td>\n",
       "      <td>N</td>\n",
       "    </tr>\n",
       "  </tbody>\n",
       "</table>\n",
       "</div>"
      ],
      "text/plain": [
       "  County  Year  population  GDP_pct_Change  House_Price  Income Priced_Out\n",
       "0  Adams  2010      441603            6.78       186967   52785          N\n",
       "1  Adams  2011      451443           15.78       176663   52429          N\n",
       "2  Adams  2012      459861           -0.17       181640   55695          N\n",
       "3  Adams  2013      469377           10.03       204357   54876          N\n",
       "4  Adams  2014      479488           17.60       228642   59316          N"
      ]
     },
     "execution_count": 2,
     "metadata": {},
     "output_type": "execute_result"
    }
   ],
   "source": [
    "final_county_df = pd.read_csv('final_county.csv')\n",
    "final_county_df.head()"
   ]
  },
  {
   "cell_type": "code",
   "execution_count": 4,
   "id": "bd718a35",
   "metadata": {},
   "outputs": [],
   "source": [
    "#Define target variable\n",
    "target= 'Priced_Out'"
   ]
  },
  {
   "cell_type": "code",
   "execution_count": 5,
   "id": "bbb0247d",
   "metadata": {},
   "outputs": [],
   "source": [
    "# Create our features\n",
    "X = final_county_df.drop(columns='Priced_Out')\n",
    "X = pd.get_dummies(X)\n",
    "\n",
    "\n",
    "# Create our target\n",
    "y = final_county_df.loc[:, target].copy()"
   ]
  },
  {
   "cell_type": "code",
   "execution_count": 6,
   "id": "2c3a6c6e",
   "metadata": {
    "scrolled": true
   },
   "outputs": [
    {
     "data": {
      "text/html": [
       "<div>\n",
       "<style scoped>\n",
       "    .dataframe tbody tr th:only-of-type {\n",
       "        vertical-align: middle;\n",
       "    }\n",
       "\n",
       "    .dataframe tbody tr th {\n",
       "        vertical-align: top;\n",
       "    }\n",
       "\n",
       "    .dataframe thead th {\n",
       "        text-align: right;\n",
       "    }\n",
       "</style>\n",
       "<table border=\"1\" class=\"dataframe\">\n",
       "  <thead>\n",
       "    <tr style=\"text-align: right;\">\n",
       "      <th></th>\n",
       "      <th>Year</th>\n",
       "      <th>population</th>\n",
       "      <th>GDP_pct_Change</th>\n",
       "      <th>House_Price</th>\n",
       "      <th>Income</th>\n",
       "      <th>County_Adams</th>\n",
       "      <th>County_Alamosa</th>\n",
       "      <th>County_Arapahoe</th>\n",
       "      <th>County_Archuleta</th>\n",
       "      <th>County_Baca</th>\n",
       "      <th>...</th>\n",
       "      <th>County_Prowers</th>\n",
       "      <th>County_Pueblo</th>\n",
       "      <th>County_Routt</th>\n",
       "      <th>County_Saguache</th>\n",
       "      <th>County_Sedgwick</th>\n",
       "      <th>County_Summit</th>\n",
       "      <th>County_Teller</th>\n",
       "      <th>County_Washington</th>\n",
       "      <th>County_Weld</th>\n",
       "      <th>County_Yuma</th>\n",
       "    </tr>\n",
       "  </thead>\n",
       "  <tbody>\n",
       "    <tr>\n",
       "      <th>count</th>\n",
       "      <td>353.000000</td>\n",
       "      <td>353.000000</td>\n",
       "      <td>353.000000</td>\n",
       "      <td>353.000000</td>\n",
       "      <td>353.000000</td>\n",
       "      <td>353.000000</td>\n",
       "      <td>353.000000</td>\n",
       "      <td>353.000000</td>\n",
       "      <td>353.000000</td>\n",
       "      <td>353.000000</td>\n",
       "      <td>...</td>\n",
       "      <td>353.000000</td>\n",
       "      <td>353.000000</td>\n",
       "      <td>353.000000</td>\n",
       "      <td>353.000000</td>\n",
       "      <td>353.000000</td>\n",
       "      <td>353.000000</td>\n",
       "      <td>353.000000</td>\n",
       "      <td>353.000000</td>\n",
       "      <td>353.000000</td>\n",
       "      <td>353.000000</td>\n",
       "    </tr>\n",
       "    <tr>\n",
       "      <th>mean</th>\n",
       "      <td>2013.130312</td>\n",
       "      <td>88396.844193</td>\n",
       "      <td>14.305807</td>\n",
       "      <td>208488.413598</td>\n",
       "      <td>51834.107649</td>\n",
       "      <td>0.019830</td>\n",
       "      <td>0.019830</td>\n",
       "      <td>0.019830</td>\n",
       "      <td>0.019830</td>\n",
       "      <td>0.019830</td>\n",
       "      <td>...</td>\n",
       "      <td>0.019830</td>\n",
       "      <td>0.019830</td>\n",
       "      <td>0.019830</td>\n",
       "      <td>0.008499</td>\n",
       "      <td>0.019830</td>\n",
       "      <td>0.019830</td>\n",
       "      <td>0.019830</td>\n",
       "      <td>0.019830</td>\n",
       "      <td>0.019830</td>\n",
       "      <td>0.019830</td>\n",
       "    </tr>\n",
       "    <tr>\n",
       "      <th>std</th>\n",
       "      <td>2.008509</td>\n",
       "      <td>164139.179610</td>\n",
       "      <td>73.083535</td>\n",
       "      <td>138400.098037</td>\n",
       "      <td>15301.482746</td>\n",
       "      <td>0.139614</td>\n",
       "      <td>0.139614</td>\n",
       "      <td>0.139614</td>\n",
       "      <td>0.139614</td>\n",
       "      <td>0.139614</td>\n",
       "      <td>...</td>\n",
       "      <td>0.139614</td>\n",
       "      <td>0.139614</td>\n",
       "      <td>0.139614</td>\n",
       "      <td>0.091925</td>\n",
       "      <td>0.139614</td>\n",
       "      <td>0.139614</td>\n",
       "      <td>0.139614</td>\n",
       "      <td>0.139614</td>\n",
       "      <td>0.139614</td>\n",
       "      <td>0.139614</td>\n",
       "    </tr>\n",
       "    <tr>\n",
       "      <th>min</th>\n",
       "      <td>2010.000000</td>\n",
       "      <td>703.000000</td>\n",
       "      <td>-38.550000</td>\n",
       "      <td>33937.000000</td>\n",
       "      <td>26075.000000</td>\n",
       "      <td>0.000000</td>\n",
       "      <td>0.000000</td>\n",
       "      <td>0.000000</td>\n",
       "      <td>0.000000</td>\n",
       "      <td>0.000000</td>\n",
       "      <td>...</td>\n",
       "      <td>0.000000</td>\n",
       "      <td>0.000000</td>\n",
       "      <td>0.000000</td>\n",
       "      <td>0.000000</td>\n",
       "      <td>0.000000</td>\n",
       "      <td>0.000000</td>\n",
       "      <td>0.000000</td>\n",
       "      <td>0.000000</td>\n",
       "      <td>0.000000</td>\n",
       "      <td>0.000000</td>\n",
       "    </tr>\n",
       "    <tr>\n",
       "      <th>25%</th>\n",
       "      <td>2011.000000</td>\n",
       "      <td>5597.000000</td>\n",
       "      <td>-5.720000</td>\n",
       "      <td>99594.000000</td>\n",
       "      <td>41348.000000</td>\n",
       "      <td>0.000000</td>\n",
       "      <td>0.000000</td>\n",
       "      <td>0.000000</td>\n",
       "      <td>0.000000</td>\n",
       "      <td>0.000000</td>\n",
       "      <td>...</td>\n",
       "      <td>0.000000</td>\n",
       "      <td>0.000000</td>\n",
       "      <td>0.000000</td>\n",
       "      <td>0.000000</td>\n",
       "      <td>0.000000</td>\n",
       "      <td>0.000000</td>\n",
       "      <td>0.000000</td>\n",
       "      <td>0.000000</td>\n",
       "      <td>0.000000</td>\n",
       "      <td>0.000000</td>\n",
       "    </tr>\n",
       "    <tr>\n",
       "      <th>50%</th>\n",
       "      <td>2013.000000</td>\n",
       "      <td>16715.000000</td>\n",
       "      <td>3.500000</td>\n",
       "      <td>185859.000000</td>\n",
       "      <td>47631.000000</td>\n",
       "      <td>0.000000</td>\n",
       "      <td>0.000000</td>\n",
       "      <td>0.000000</td>\n",
       "      <td>0.000000</td>\n",
       "      <td>0.000000</td>\n",
       "      <td>...</td>\n",
       "      <td>0.000000</td>\n",
       "      <td>0.000000</td>\n",
       "      <td>0.000000</td>\n",
       "      <td>0.000000</td>\n",
       "      <td>0.000000</td>\n",
       "      <td>0.000000</td>\n",
       "      <td>0.000000</td>\n",
       "      <td>0.000000</td>\n",
       "      <td>0.000000</td>\n",
       "      <td>0.000000</td>\n",
       "    </tr>\n",
       "    <tr>\n",
       "      <th>75%</th>\n",
       "      <td>2015.000000</td>\n",
       "      <td>47315.000000</td>\n",
       "      <td>12.730000</td>\n",
       "      <td>279130.000000</td>\n",
       "      <td>61286.000000</td>\n",
       "      <td>0.000000</td>\n",
       "      <td>0.000000</td>\n",
       "      <td>0.000000</td>\n",
       "      <td>0.000000</td>\n",
       "      <td>0.000000</td>\n",
       "      <td>...</td>\n",
       "      <td>0.000000</td>\n",
       "      <td>0.000000</td>\n",
       "      <td>0.000000</td>\n",
       "      <td>0.000000</td>\n",
       "      <td>0.000000</td>\n",
       "      <td>0.000000</td>\n",
       "      <td>0.000000</td>\n",
       "      <td>0.000000</td>\n",
       "      <td>0.000000</td>\n",
       "      <td>0.000000</td>\n",
       "    </tr>\n",
       "    <tr>\n",
       "      <th>max</th>\n",
       "      <td>2016.000000</td>\n",
       "      <td>694777.000000</td>\n",
       "      <td>767.870000</td>\n",
       "      <td>778773.000000</td>\n",
       "      <td>112399.000000</td>\n",
       "      <td>1.000000</td>\n",
       "      <td>1.000000</td>\n",
       "      <td>1.000000</td>\n",
       "      <td>1.000000</td>\n",
       "      <td>1.000000</td>\n",
       "      <td>...</td>\n",
       "      <td>1.000000</td>\n",
       "      <td>1.000000</td>\n",
       "      <td>1.000000</td>\n",
       "      <td>1.000000</td>\n",
       "      <td>1.000000</td>\n",
       "      <td>1.000000</td>\n",
       "      <td>1.000000</td>\n",
       "      <td>1.000000</td>\n",
       "      <td>1.000000</td>\n",
       "      <td>1.000000</td>\n",
       "    </tr>\n",
       "  </tbody>\n",
       "</table>\n",
       "<p>8 rows × 60 columns</p>\n",
       "</div>"
      ],
      "text/plain": [
       "              Year     population  GDP_pct_Change    House_Price  \\\n",
       "count   353.000000     353.000000      353.000000     353.000000   \n",
       "mean   2013.130312   88396.844193       14.305807  208488.413598   \n",
       "std       2.008509  164139.179610       73.083535  138400.098037   \n",
       "min    2010.000000     703.000000      -38.550000   33937.000000   \n",
       "25%    2011.000000    5597.000000       -5.720000   99594.000000   \n",
       "50%    2013.000000   16715.000000        3.500000  185859.000000   \n",
       "75%    2015.000000   47315.000000       12.730000  279130.000000   \n",
       "max    2016.000000  694777.000000      767.870000  778773.000000   \n",
       "\n",
       "              Income  County_Adams  County_Alamosa  County_Arapahoe  \\\n",
       "count     353.000000    353.000000      353.000000       353.000000   \n",
       "mean    51834.107649      0.019830        0.019830         0.019830   \n",
       "std     15301.482746      0.139614        0.139614         0.139614   \n",
       "min     26075.000000      0.000000        0.000000         0.000000   \n",
       "25%     41348.000000      0.000000        0.000000         0.000000   \n",
       "50%     47631.000000      0.000000        0.000000         0.000000   \n",
       "75%     61286.000000      0.000000        0.000000         0.000000   \n",
       "max    112399.000000      1.000000        1.000000         1.000000   \n",
       "\n",
       "       County_Archuleta  County_Baca  ...  County_Prowers  County_Pueblo  \\\n",
       "count        353.000000   353.000000  ...      353.000000     353.000000   \n",
       "mean           0.019830     0.019830  ...        0.019830       0.019830   \n",
       "std            0.139614     0.139614  ...        0.139614       0.139614   \n",
       "min            0.000000     0.000000  ...        0.000000       0.000000   \n",
       "25%            0.000000     0.000000  ...        0.000000       0.000000   \n",
       "50%            0.000000     0.000000  ...        0.000000       0.000000   \n",
       "75%            0.000000     0.000000  ...        0.000000       0.000000   \n",
       "max            1.000000     1.000000  ...        1.000000       1.000000   \n",
       "\n",
       "       County_Routt  County_Saguache  County_Sedgwick  County_Summit  \\\n",
       "count    353.000000       353.000000       353.000000     353.000000   \n",
       "mean       0.019830         0.008499         0.019830       0.019830   \n",
       "std        0.139614         0.091925         0.139614       0.139614   \n",
       "min        0.000000         0.000000         0.000000       0.000000   \n",
       "25%        0.000000         0.000000         0.000000       0.000000   \n",
       "50%        0.000000         0.000000         0.000000       0.000000   \n",
       "75%        0.000000         0.000000         0.000000       0.000000   \n",
       "max        1.000000         1.000000         1.000000       1.000000   \n",
       "\n",
       "       County_Teller  County_Washington  County_Weld  County_Yuma  \n",
       "count     353.000000         353.000000   353.000000   353.000000  \n",
       "mean        0.019830           0.019830     0.019830     0.019830  \n",
       "std         0.139614           0.139614     0.139614     0.139614  \n",
       "min         0.000000           0.000000     0.000000     0.000000  \n",
       "25%         0.000000           0.000000     0.000000     0.000000  \n",
       "50%         0.000000           0.000000     0.000000     0.000000  \n",
       "75%         0.000000           0.000000     0.000000     0.000000  \n",
       "max         1.000000           1.000000     1.000000     1.000000  \n",
       "\n",
       "[8 rows x 60 columns]"
      ]
     },
     "execution_count": 6,
     "metadata": {},
     "output_type": "execute_result"
    }
   ],
   "source": [
    "X.describe()"
   ]
  },
  {
   "cell_type": "code",
   "execution_count": 7,
   "id": "6f04ee56",
   "metadata": {},
   "outputs": [
    {
     "data": {
      "text/plain": [
       "N    231\n",
       "Y    122\n",
       "Name: Priced_Out, dtype: int64"
      ]
     },
     "execution_count": 7,
     "metadata": {},
     "output_type": "execute_result"
    }
   ],
   "source": [
    "# Check the balance of our target values\n",
    "y.value_counts()"
   ]
  },
  {
   "cell_type": "code",
   "execution_count": 8,
   "id": "d5eda05b",
   "metadata": {},
   "outputs": [],
   "source": [
    "from sklearn.model_selection import train_test_split\n",
    "X_train, X_test, y_train, y_test = train_test_split(X, \n",
    "                                                    y, \n",
    "                                                    random_state=1)"
   ]
  },
  {
   "cell_type": "code",
   "execution_count": 9,
   "id": "87b552b8",
   "metadata": {},
   "outputs": [
    {
     "data": {
      "text/plain": [
       "Counter({'Y': 171, 'N': 171})"
      ]
     },
     "execution_count": 9,
     "metadata": {},
     "output_type": "execute_result"
    }
   ],
   "source": [
    "# Resample the training data with SMOTE\n",
    "from imblearn.over_sampling import SMOTE\n",
    "X_resampled, y_resampled = SMOTE(random_state=1).fit_resample(\n",
    "    X_train, y_train\n",
    ")\n",
    "Counter(y_resampled)"
   ]
  },
  {
   "cell_type": "code",
   "execution_count": 10,
   "id": "272ad27e",
   "metadata": {},
   "outputs": [
    {
     "data": {
      "text/plain": [
       "LogisticRegression(random_state=1)"
      ]
     },
     "execution_count": 10,
     "metadata": {},
     "output_type": "execute_result"
    }
   ],
   "source": [
    "# Train the Logistic Regression model using the resampled data\n",
    "from sklearn.linear_model import LogisticRegression\n",
    "model = LogisticRegression(solver='lbfgs', random_state=1)\n",
    "model.fit(X_resampled, y_resampled)"
   ]
  },
  {
   "cell_type": "code",
   "execution_count": 11,
   "id": "d0a2b147",
   "metadata": {},
   "outputs": [
    {
     "data": {
      "text/plain": [
       "0.5741379310344827"
      ]
     },
     "execution_count": 11,
     "metadata": {},
     "output_type": "execute_result"
    }
   ],
   "source": [
    "# Calculated the balanced accuracy score\n",
    "from sklearn.metrics import balanced_accuracy_score\n",
    "y_pred = model.predict(X_test)\n",
    "balanced_accuracy_score(y_test, y_pred)"
   ]
  },
  {
   "cell_type": "code",
   "execution_count": 12,
   "id": "662c4841",
   "metadata": {},
   "outputs": [
    {
     "data": {
      "text/plain": [
       "array([[42, 18],\n",
       "       [16, 13]], dtype=int64)"
      ]
     },
     "execution_count": 12,
     "metadata": {},
     "output_type": "execute_result"
    }
   ],
   "source": [
    "# Display the confusion matrix\n",
    "from sklearn.metrics import confusion_matrix\n",
    "from imblearn.metrics import classification_report_imbalanced\n",
    "confusion_matrix(y_test, y_pred)"
   ]
  },
  {
   "cell_type": "code",
   "execution_count": 13,
   "id": "56d3e4f8",
   "metadata": {
    "scrolled": true
   },
   "outputs": [
    {
     "name": "stdout",
     "output_type": "stream",
     "text": [
      "                   pre       rec       spe        f1       geo       iba       sup\n",
      "\n",
      "          N       0.72      0.70      0.45      0.71      0.56      0.32        60\n",
      "          Y       0.42      0.45      0.70      0.43      0.56      0.31        29\n",
      "\n",
      "avg / total       0.62      0.62      0.53      0.62      0.56      0.32        89\n",
      "\n"
     ]
    }
   ],
   "source": [
    "# Print the imbalanced classification report\n",
    "print(classification_report_imbalanced(y_test, y_pred))"
   ]
  },
  {
   "cell_type": "code",
   "execution_count": null,
   "id": "9262f946",
   "metadata": {},
   "outputs": [],
   "source": []
  }
 ],
 "metadata": {
  "kernelspec": {
   "display_name": "mlenv",
   "language": "python",
   "name": "mlenv"
  },
  "language_info": {
   "codemirror_mode": {
    "name": "ipython",
    "version": 3
   },
   "file_extension": ".py",
   "mimetype": "text/x-python",
   "name": "python",
   "nbconvert_exporter": "python",
   "pygments_lexer": "ipython3",
   "version": "3.7.10"
  }
 },
 "nbformat": 4,
 "nbformat_minor": 5
}
